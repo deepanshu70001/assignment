{
 "cells": [
  {
   "cell_type": "markdown",
   "id": "cfa71848-243f-454b-9828-a369f6fef026",
   "metadata": {},
   "source": [
    "q1) comments are the lines of code wich is not a part of program and is ignored by the compiler while running the code, it is written for the refrence of code for its easy understanding by anyone\n",
    "a comment can be pass using\n",
    "'#' (a single line comment)\\\n",
    "'''comment'''(three inverted  coma can also be use for multiple  line comment)\n",
    "\n",
    "\n",
    "\n",
    "q2) variable are cointainer for storing data , variable are used as  refrenceing or address to our data\n",
    "variable can be assinged as v=5 here 'v' is variable and '=' is use to assing v as 5\n",
    "\n"
   ]
  },
  {
   "cell_type": "markdown",
   "id": "e96fc8d6-b283-476a-a37e-66f1f12f2ac4",
   "metadata": {},
   "source": [
    "q3) data can be converted in from to other by using type casting\n",
    "\n",
    "\n",
    "\n",
    "s='3' #here s is a string\n",
    "\n",
    "\n",
    "int(s) #int() will convert string into a integer type data"
   ]
  },
  {
   "cell_type": "markdown",
   "id": "8bf89b43-4e1c-42e7-88c1-f90da295d61f",
   "metadata": {},
   "source": [
    "q4) Create a Python script  and save it with the \n",
    "\n",
    "Open a terminal or command prompt and navigate to the directory where your script is located\n",
    "\n",
    "Use the jupiter notebook  or python3 command followed by the name of your script to run it\n",
    "\n",
    "Press Enter to execute your script and see the output"
   ]
  },
  {
   "cell_type": "code",
   "execution_count": 1,
   "id": "055adf5f-8608-42e1-bd61-91d1d3695779",
   "metadata": {},
   "outputs": [
    {
     "data": {
      "text/plain": [
       "[2, 3]"
      ]
     },
     "execution_count": 1,
     "metadata": {},
     "output_type": "execute_result"
    }
   ],
   "source": [
    "'''q5)'''my_list=[1,2,3,4,5]\n",
    "my_list[1:3]\n"
   ]
  },
  {
   "cell_type": "markdown",
   "id": "7bc475e5-d713-4c4b-aac9-14b316ae2b1a",
   "metadata": {},
   "source": [
    "q6) a complex number is a part of real and imaginary number , imaginary number is reffered to sqr root of -1 , in maths it is denoted by 'i' but in python it denoted by 'j'\n",
    "\n",
    "\n"
   ]
  },
  {
   "cell_type": "code",
   "execution_count": 2,
   "id": "da638f75-a633-4f0e-a236-8a5522adf08e",
   "metadata": {},
   "outputs": [
    {
     "data": {
      "text/plain": [
       "complex"
      ]
     },
     "execution_count": 2,
     "metadata": {},
     "output_type": "execute_result"
    }
   ],
   "source": [
    "com=5+4j\n",
    "type(com)"
   ]
  },
  {
   "cell_type": "markdown",
   "id": "7eaf9ebe-75f4-45a4-bb92-889188bc61e0",
   "metadata": {},
   "source": [
    "q7) while assinging a variable \n",
    "\n",
    "the variable shoudn't be a keyword eg print input def etc\n",
    "\n",
    "variable canot be start with special carracter like @,$,! etc\n",
    "\n",
    "variable can not start with numbers\n",
    "\n",
    "variable 'age' can be assinged as"
   ]
  },
  {
   "cell_type": "code",
   "execution_count": 4,
   "id": "1f2dc021-5c9e-4c9a-bf4a-e1d231b17628",
   "metadata": {},
   "outputs": [
    {
     "data": {
      "text/plain": [
       "25"
      ]
     },
     "execution_count": 4,
     "metadata": {},
     "output_type": "execute_result"
    }
   ],
   "source": [
    "age=25\n",
    "age"
   ]
  },
  {
   "cell_type": "code",
   "execution_count": 5,
   "id": "99b15642-f51e-47ec-8583-3d4c20b4a1e5",
   "metadata": {},
   "outputs": [
    {
     "data": {
      "text/plain": [
       "float"
      ]
     },
     "execution_count": 5,
     "metadata": {},
     "output_type": "execute_result"
    }
   ],
   "source": [
    "# q8) \n",
    "price=99.9\n",
    "type(price)\n"
   ]
  },
  {
   "cell_type": "code",
   "execution_count": 7,
   "id": "7a046b1a-05b6-4e8b-b4f2-8fda227ff4db",
   "metadata": {},
   "outputs": [
    {
     "name": "stdout",
     "output_type": "stream",
     "text": [
      "deepanshu\n"
     ]
    }
   ],
   "source": [
    "#q9) \n",
    "name='deepanshu'\n",
    "print(name)"
   ]
  },
  {
   "cell_type": "code",
   "execution_count": 9,
   "id": "ef47157f-f113-4b49-9c89-e56ca028b8f3",
   "metadata": {},
   "outputs": [
    {
     "data": {
      "text/plain": [
       "'world'"
      ]
     },
     "execution_count": 9,
     "metadata": {},
     "output_type": "execute_result"
    }
   ],
   "source": [
    "#q10)\n",
    "n=\"hello world!\"\n",
    "n[6:11]"
   ]
  },
  {
   "cell_type": "code",
   "execution_count": null,
   "id": "99e8fb7b-4e16-4c15-b57f-e37c9e00d210",
   "metadata": {},
   "outputs": [],
   "source": [
    "#q11)\n",
    "is_student=True"
   ]
  }
 ],
 "metadata": {
  "kernelspec": {
   "display_name": "Python 3 (ipykernel)",
   "language": "python",
   "name": "python3"
  },
  "language_info": {
   "codemirror_mode": {
    "name": "ipython",
    "version": 3
   },
   "file_extension": ".py",
   "mimetype": "text/x-python",
   "name": "python",
   "nbconvert_exporter": "python",
   "pygments_lexer": "ipython3",
   "version": "3.10.8"
  }
 },
 "nbformat": 4,
 "nbformat_minor": 5
}
